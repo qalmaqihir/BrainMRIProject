{
 "cells": [
  {
   "cell_type": "markdown",
   "id": "70e805db",
   "metadata": {},
   "source": [
    "# Reading Images \n",
    "- Reading common image formates e.g jpeg, tig, png "
   ]
  },
  {
   "cell_type": "code",
   "execution_count": null,
   "id": "d6c00bba",
   "metadata": {},
   "outputs": [],
   "source": []
  },
  {
   "cell_type": "code",
   "execution_count": 1,
   "id": "c84255b9",
   "metadata": {},
   "outputs": [],
   "source": [
    "import scipy.misc as mi"
   ]
  },
  {
   "cell_type": "code",
   "execution_count": 2,
   "id": "6c5832cf",
   "metadata": {},
   "outputs": [
    {
     "ename": "AttributeError",
     "evalue": "module 'scipy.misc' has no attribute 'imread'",
     "output_type": "error",
     "traceback": [
      "\u001b[1;31m---------------------------------------------------------------------------\u001b[0m",
      "\u001b[1;31mAttributeError\u001b[0m                            Traceback (most recent call last)",
      "\u001b[1;32m~\\AppData\\Local\\Temp/ipykernel_18768/4272043257.py\u001b[0m in \u001b[0;36m<module>\u001b[1;34m\u001b[0m\n\u001b[1;32m----> 1\u001b[1;33m \u001b[0mim\u001b[0m \u001b[1;33m=\u001b[0m\u001b[0mmi\u001b[0m\u001b[1;33m.\u001b[0m\u001b[0mimread\u001b[0m\u001b[1;33m(\u001b[0m\u001b[1;34m'i.jpg'\u001b[0m\u001b[1;33m)\u001b[0m\u001b[1;33m\u001b[0m\u001b[1;33m\u001b[0m\u001b[0m\n\u001b[0m",
      "\u001b[1;31mAttributeError\u001b[0m: module 'scipy.misc' has no attribute 'imread'"
     ]
    }
   ],
   "source": [
    "im =mi.imread('i.jpg')\n"
   ]
  },
  {
   "cell_type": "code",
   "execution_count": 3,
   "id": "44eddd78",
   "metadata": {},
   "outputs": [
    {
     "ename": "ModuleNotFoundError",
     "evalue": "No module named 'scipy.misc.pilutil'",
     "output_type": "error",
     "traceback": [
      "\u001b[1;31m---------------------------------------------------------------------------\u001b[0m",
      "\u001b[1;31mModuleNotFoundError\u001b[0m                       Traceback (most recent call last)",
      "\u001b[1;32m~\\AppData\\Local\\Temp/ipykernel_18768/1635468594.py\u001b[0m in \u001b[0;36m<module>\u001b[1;34m\u001b[0m\n\u001b[1;32m----> 1\u001b[1;33m \u001b[1;32mfrom\u001b[0m \u001b[0mscipy\u001b[0m\u001b[1;33m.\u001b[0m\u001b[0mmisc\u001b[0m\u001b[1;33m.\u001b[0m\u001b[0mpilutil\u001b[0m \u001b[1;32mimport\u001b[0m \u001b[0mImage\u001b[0m\u001b[1;33m\u001b[0m\u001b[1;33m\u001b[0m\u001b[0m\n\u001b[0m\u001b[0;32m      2\u001b[0m \u001b[0mim\u001b[0m \u001b[1;33m=\u001b[0m \u001b[0mImage\u001b[0m\u001b[1;33m.\u001b[0m\u001b[0mopen\u001b[0m\u001b[1;33m(\u001b[0m\u001b[1;34m'i.jpg'\u001b[0m\u001b[1;33m)\u001b[0m\u001b[1;33m\u001b[0m\u001b[1;33m\u001b[0m\u001b[0m\n",
      "\u001b[1;31mModuleNotFoundError\u001b[0m: No module named 'scipy.misc.pilutil'"
     ]
    }
   ],
   "source": [
    "from scipy.misc.pilutil import Image\n",
    "im = Image.open('i.jpg')"
   ]
  },
  {
   "cell_type": "markdown",
   "id": "3f28284c",
   "metadata": {},
   "source": [
    "# Summary of Images and its Properties\n",
    "* *Image processing is preceded by reading an image file. It is then followed by either writing the image to a file or visualization.*\n",
    "* *Image is stored generally in the form of matrics. In python, it is processed as a numpy n-dimensional array, ndarray.*\n",
    "* *Imag has various properties like bit-depth, pixel/voxel size, histogram, window-level etc. These properties affect the visualization and procesing of the images.*\n",
    "* *There are 100s of image formats to serve the need of image processing community. Some of these are png, jpeg etc are used generally for photographs while DICOM, avw, nifti are used for medical images processing.*\n",
    "* *In addition to process these images, it is important to view these images using graphical tools such as exDicom, Osiriz, ImageJ etc.*\n",
    "* *Reading and writing can be performed using many methods.*"
   ]
  },
  {
   "cell_type": "code",
   "execution_count": null,
   "id": "643f9292",
   "metadata": {},
   "outputs": [],
   "source": []
  }
 ],
 "metadata": {
  "kernelspec": {
   "display_name": "Python 3 (ipykernel)",
   "language": "python",
   "name": "python3"
  },
  "language_info": {
   "codemirror_mode": {
    "name": "ipython",
    "version": 3
   },
   "file_extension": ".py",
   "mimetype": "text/x-python",
   "name": "python",
   "nbconvert_exporter": "python",
   "pygments_lexer": "ipython3",
   "version": "3.9.7"
  }
 },
 "nbformat": 4,
 "nbformat_minor": 5
}
