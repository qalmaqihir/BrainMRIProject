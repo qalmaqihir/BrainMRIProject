{
 "cells": [
  {
   "cell_type": "markdown",
   "id": "6114c8f2",
   "metadata": {},
   "source": [
    "# Fourier Transform\n",
    "The French mathematician Jean Joseph Fourier developed Fourier\n",
    "transforms in an attempt to solve the heat equation. During the pro\u0002cess, he recognized that a periodic function can be expressed as infinite\n",
    "sums of sines and cosines of different frequencies, now known as the\n",
    "Fourier series.\n",
    "\n",
    "* Fourier transform is an extension of the Fourier series to non-periodic functions. Fourier transform is a representation in which any function can be expressed as the integral of sines and cosines multiplied with the weighted function.\n",
    "* Also, any function represented in either Fourier series or transform can be reconstructed completely by an inverse process => Inverse Fourier Transform.\n",
    "=> After the development of the fast fourier transform algorithm, FFT, the applications of Fourier transform have affected several fields, remote sensing, signal processing and image processing. \n",
    "\n",
    "**In Image processing, Fourier Transform are used for:**\n",
    ">    * Image Filtering\n",
    ">    * Image Compression\n",
    ">    * Image Enhancement \n",
    ">    * Image Restoration\n",
    ">    * Image Analysis\n",
    ">    * Image Reconstruction\n",
    "\n",
    "\n"
   ]
  },
  {
   "cell_type": "code",
   "execution_count": 1,
   "id": "deec08fc",
   "metadata": {},
   "outputs": [],
   "source": [
    "import math, numpy\n",
    "import scipy.fftpack as fftim\n"
   ]
  },
  {
   "cell_type": "code",
   "execution_count": 2,
   "id": "ff760ecc",
   "metadata": {},
   "outputs": [],
   "source": [
    "import scipy.misc \n",
    "from  PIL import Image\n",
    "import matplotlib.pyplot as plt"
   ]
  },
  {
   "cell_type": "code",
   "execution_count": 3,
   "id": "08899aa9",
   "metadata": {},
   "outputs": [],
   "source": [
    "# Open and check the image\n",
    "\n",
    "a = Image.open('../ThesisWork/Images/12.gif')\n",
    "a.show()"
   ]
  },
  {
   "cell_type": "code",
   "execution_count": 4,
   "id": "d87d7904",
   "metadata": {},
   "outputs": [],
   "source": [
    "# a is converted into an ndarray\n",
    "b = numpy.asarray(a)\n",
    "\n",
    "# performing FFT\n",
    "\n",
    "c = abs(fftim.fft2(b))\n",
    "\n",
    "# shifting the Fourier frequence image\n",
    "\n",
    "d= fftim.fftshift(c)\n",
    "\n",
    "\n",
    "# Convertinng the d to floating type and saving it\n",
    "\n",
    "d.astype('float').tofile('../Image Processing/fft1_ouput.raw')"
   ]
  },
  {
   "cell_type": "markdown",
   "id": "b81aacd1",
   "metadata": {},
   "source": [
    "*__The Fast Fourier transform is obtained using the fft2 function\n",
    "and only the absolute value is obtained for visualization. The absolute\n",
    "value image of FFT is then shifted, so that the center of the image is\n",
    "the center of the Fourier spectrum. The center pixel corresponds to a\n",
    "frequency of 0 in both directions. Finally, the shifted image is saved as\n",
    "a raw file.__*\n",
    "\n",
    "\n",
    ">__[rawpy](https://pypi.org/project/rawpy/)__ Important\n",
    "\n",
    "> __[Tutorials](https://packaging.python.org/en/latest/tutorials/installing-packages/)__"
   ]
  },
  {
   "cell_type": "code",
   "execution_count": 5,
   "id": "9ac8990f",
   "metadata": {},
   "outputs": [],
   "source": [
    "# conda install rawpy\n",
    "# !pip install rawpy"
   ]
  },
  {
   "cell_type": "code",
   "execution_count": 6,
   "id": "9a3ad3ee",
   "metadata": {},
   "outputs": [],
   "source": [
    "import rawpy\n",
    "import imageio"
   ]
  },
  {
   "cell_type": "code",
   "execution_count": 7,
   "id": "b94fa2aa",
   "metadata": {
    "scrolled": true
   },
   "outputs": [
    {
     "ename": "LibRawIOError",
     "evalue": "b'Input/output error'",
     "output_type": "error",
     "traceback": [
      "\u001b[1;31m---------------------------------------------------------------------------\u001b[0m",
      "\u001b[1;31mLibRawIOError\u001b[0m                             Traceback (most recent call last)",
      "\u001b[1;32m~\\AppData\\Local\\Temp/ipykernel_13964/2780816952.py\u001b[0m in \u001b[0;36m<module>\u001b[1;34m\u001b[0m\n\u001b[0;32m      1\u001b[0m \u001b[1;31m# paths = 'C:/Users/jawad/OneDrive - University Of Central Asia/Study/UCA/8th Semester/FYP/ImageProcessing/Image Processing/fft1_output.raw'\u001b[0m\u001b[1;33m\u001b[0m\u001b[1;33m\u001b[0m\u001b[0m\n\u001b[1;32m----> 2\u001b[1;33m \u001b[0mraw\u001b[0m \u001b[1;33m=\u001b[0m \u001b[0mrawpy\u001b[0m\u001b[1;33m.\u001b[0m\u001b[0mimread\u001b[0m\u001b[1;33m(\u001b[0m\u001b[1;34m'../Image Processing/fft1_output.raw'\u001b[0m\u001b[1;33m)\u001b[0m\u001b[1;33m\u001b[0m\u001b[1;33m\u001b[0m\u001b[0m\n\u001b[0m\u001b[0;32m      3\u001b[0m \u001b[0mrgb\u001b[0m \u001b[1;33m=\u001b[0m \u001b[0mraw\u001b[0m\u001b[1;33m.\u001b[0m\u001b[0mpostprocess\u001b[0m\u001b[1;33m(\u001b[0m\u001b[1;33m)\u001b[0m\u001b[1;33m\u001b[0m\u001b[1;33m\u001b[0m\u001b[0m\n\u001b[0;32m      4\u001b[0m \u001b[0mimageio\u001b[0m\u001b[1;33m.\u001b[0m\u001b[0mimsave\u001b[0m\u001b[1;33m(\u001b[0m\u001b[1;34m'default.tiff'\u001b[0m\u001b[1;33m,\u001b[0m \u001b[0mrgb\u001b[0m\u001b[1;33m)\u001b[0m\u001b[1;33m\u001b[0m\u001b[1;33m\u001b[0m\u001b[0m\n",
      "\u001b[1;32m~\\anaconda3a\\lib\\site-packages\\rawpy\\__init__.py\u001b[0m in \u001b[0;36mimread\u001b[1;34m(pathOrFile)\u001b[0m\n\u001b[0;32m     18\u001b[0m         \u001b[0md\u001b[0m\u001b[1;33m.\u001b[0m\u001b[0mopen_buffer\u001b[0m\u001b[1;33m(\u001b[0m\u001b[0mpathOrFile\u001b[0m\u001b[1;33m)\u001b[0m\u001b[1;33m\u001b[0m\u001b[1;33m\u001b[0m\u001b[0m\n\u001b[0;32m     19\u001b[0m     \u001b[1;32melse\u001b[0m\u001b[1;33m:\u001b[0m\u001b[1;33m\u001b[0m\u001b[1;33m\u001b[0m\u001b[0m\n\u001b[1;32m---> 20\u001b[1;33m         \u001b[0md\u001b[0m\u001b[1;33m.\u001b[0m\u001b[0mopen_file\u001b[0m\u001b[1;33m(\u001b[0m\u001b[0mpathOrFile\u001b[0m\u001b[1;33m)\u001b[0m\u001b[1;33m\u001b[0m\u001b[1;33m\u001b[0m\u001b[0m\n\u001b[0m\u001b[0;32m     21\u001b[0m     \u001b[1;32mreturn\u001b[0m \u001b[0md\u001b[0m\u001b[1;33m\u001b[0m\u001b[1;33m\u001b[0m\u001b[0m\n",
      "\u001b[1;32mrawpy\\_rawpy.pyx\u001b[0m in \u001b[0;36mrawpy._rawpy.RawPy.open_file\u001b[1;34m()\u001b[0m\n",
      "\u001b[1;32mrawpy\\_rawpy.pyx\u001b[0m in \u001b[0;36mrawpy._rawpy.RawPy.handle_error\u001b[1;34m()\u001b[0m\n",
      "\u001b[1;31mLibRawIOError\u001b[0m: b'Input/output error'"
     ]
    }
   ],
   "source": [
    "# paths = 'C:/Users/jawad/OneDrive - University Of Central Asia/Study/UCA/8th Semester/FYP/ImageProcessing/Image Processing/fft1_output.raw'\n",
    "raw = rawpy.imread('../Image Processing/fft1_output.raw')\n",
    "rgb = raw.postprocess()\n",
    "imageio.imsave('default.tiff', rgb)"
   ]
  },
  {
   "cell_type": "code",
   "execution_count": null,
   "id": "ef110f87",
   "metadata": {},
   "outputs": [],
   "source": [
    "# Find bad pixels using multiple RAW files and repair them:\n",
    "\n",
    "\n",
    "import rawpy.enhance\n",
    "\n",
    "\n",
    "bad_pixels = rawpy.enhance.find_bad_pixels(path)\n",
    "\n",
    "for path in paths:\n",
    "    with rawpy.imread(path) as raw:\n",
    "        rawpy.enhance.repair_bad_pixels(raw, bad_pixels, method='median')\n",
    "        rgb = raw.postprocess()\n",
    "    imageio.imsave(path + '.tiff', rgb)"
   ]
  },
  {
   "cell_type": "markdown",
   "id": "67f8a75c",
   "metadata": {},
   "source": [
    "## Convolution\n",
    "\n",
    "> **Convolution is a mathematical operation that expresses the integral\n",
    "of the overlap between two functions. A simple example is a blurred\n",
    "image, which is obtained by convolving an un-blurred image with a\n",
    "blurring function**\n",
    "\n",
    "\n",
    "There are many cases of blurred images that we see in real life. A\n",
    "photograph of a car moving at high speed is blurred due to motion.\n",
    "A photograph of a star obtained from a telescope is blurred by the\n",
    "particles in the atmosphere. A wide-field microscope image of an object\n",
    "is blurred by a signal from out-of-plane. Such blurring can be modeled\n",
    "as convolution operation and eliminated by the inverse process called\n",
    "deconvolution.\n",
    "\n",
    "* __The operation is simpler in Fourier space than in real space but depending on the size of the  mage and the functions used, the former can be computationally efficient. In Fourier space, convolution is performed on the whole image at once. However, in spatial domain convolution is  erformed by sliding the filter window on the image.__"
   ]
  },
  {
   "cell_type": "markdown",
   "id": "a2a2c20e",
   "metadata": {},
   "source": [
    "## Filtering in Frequency Domain\n",
    "\n",
    "In lowpass filters, only low frequencies from the\n",
    "Fourier transform are used while high frequencies are blocked. Similarly,\n",
    "in highpass filters, only high frequencies from the Fourier transform are\n",
    "used while the low frequencies are blocked. Lowpass filters are used to\n",
    "smooth the image or reduce noise whereas highpass filters are used\n",
    "to sharpen edges. In each case, three different filters, namely; ideal,\n",
    "Butterworth and Gaussian, are considered. The three filters differ in\n",
    "the creation of the windows used in filtering.\n",
    "### Low-pass filter\n",
    "* For a given image, after the convolution function is defined, the ideal lowpass filter can be performed with element by element multiplication of the FFT of the image and the convolution function. Then the inverse FFT is performed on the convolved function to get the output image. The Python code for the ideal lowpass filter is given below.\n"
   ]
  },
  {
   "cell_type": "code",
   "execution_count": 21,
   "id": "db769b70",
   "metadata": {},
   "outputs": [],
   "source": [
    "import scipy.misc\n",
    "import numpy as np\n",
    "import math\n",
    "from  PIL import Image\n",
    "import matplotlib.pyplot as plt\n",
    "\n",
    "import scipy.fftpack as fftim"
   ]
  },
  {
   "cell_type": "code",
   "execution_count": 22,
   "id": "ee1850fc",
   "metadata": {},
   "outputs": [
    {
     "data": {
      "text/plain": [
       "(512, 512)"
      ]
     },
     "execution_count": 22,
     "metadata": {},
     "output_type": "execute_result"
    }
   ],
   "source": [
    "# Opening the image and converting it to grayscale\n",
    "a=Image.open('../ThesisWork/Images/12.gif')\n",
    "a.size\n",
    "# a.show()"
   ]
  },
  {
   "cell_type": "code",
   "execution_count": 23,
   "id": "9ea0c1e7",
   "metadata": {},
   "outputs": [
    {
     "name": "stdout",
     "output_type": "stream",
     "text": [
      "[[0 0 0 ... 0 0 0]\n",
      " [0 0 0 ... 0 0 0]\n",
      " [0 0 0 ... 0 0 0]\n",
      " ...\n",
      " [0 0 0 ... 0 0 0]\n",
      " [0 0 0 ... 0 0 0]\n",
      " [0 0 0 ... 0 0 0]]\n"
     ]
    }
   ],
   "source": [
    "# a is converted into an ndarray\n",
    "b = np.asarray(a)\n",
    "print(b)"
   ]
  },
  {
   "cell_type": "code",
   "execution_count": 24,
   "id": "f5f619ba",
   "metadata": {},
   "outputs": [],
   "source": [
    "# Performing FFT\n",
    "c=fftim.fft2(b)\n",
    "# Shfting the Fourier frequency image\n",
    "d=fftim.fftshift(c)"
   ]
  },
  {
   "cell_type": "code",
   "execution_count": 25,
   "id": "efd33d14",
   "metadata": {},
   "outputs": [],
   "source": [
    "# Initializing variables for convolution function\n",
    "M= d.shape[0]\n",
    "N= d.shape[1]\n",
    "# H is defined and values in H are initialized to 1\n",
    "H = np.ones((M,N))\n",
    "\n",
    "center1=M/2\n",
    "center2=N/2\n",
    "\n",
    "d_0=30.0 # Cut-off radius\n",
    "\n"
   ]
  },
  {
   "cell_type": "code",
   "execution_count": 26,
   "id": "70a6c5aa",
   "metadata": {},
   "outputs": [],
   "source": [
    "# defining the convolution function for ILPF\n",
    "\n",
    "for i in range(1,M):\n",
    "    for j in range(1,N):\n",
    "        r1=(i-center1)**2 + (j-center2)**2\n",
    "        \n",
    "        # euclidean distance from origin is computed\n",
    "        r= math.sqrt(r1)\n",
    "        \n",
    "        # Using cut-off radius to eli,inate high frequency \n",
    "        if r>d_0:\n",
    "            H[i,j]=0.0\n",
    "            \n",
    "# Converting H to an Image\n",
    "H=Image.fromarray(H)\n",
    "\n",
    "# Performing the convolution\n",
    "con=d*H\n",
    "\n",
    "#Computing the magnitude of the inverse FFT\n",
    "e = abs(fftim.ifft2(con))\n",
    "#e is converted from an ndarray to an image\n",
    "lowpass_filter = Image.fromarray(e)\n",
    "\n",
    "# Saving the image \n",
    "lowpass_filter.save('../Image Processing/ilowpass_ouput.gif')"
   ]
  },
  {
   "cell_type": "code",
   "execution_count": 27,
   "id": "35fa473d",
   "metadata": {},
   "outputs": [],
   "source": [
    "lowpass_filter.show()"
   ]
  },
  {
   "cell_type": "markdown",
   "id": "df6872bf",
   "metadata": {},
   "source": [
    "*The image is read and its Fourier transform is determined using the\n",
    "fft2 function. The Fourier spectrum is shifted to the center of the image\n",
    "using the fftshift function. A filter (H) is created by assigning a value of\n",
    "1 to all pixels within a radius of d 0 and 0 otherwise. Finally, the filter\n",
    "(H) is convolved with the image (d) to obtain the convolved Fourier\n",
    "image (con). This image is inverted using ifft2 to obtain the filtered\n",
    "image in spatial domain. Since high frequencies are blocked, the image\n",
    "is blurred.*\n",
    "\n",
    "> A simple image compression technique can be created using the\n",
    "Fourier Transform 123\n",
    "concept of lowpass filtering. In this technique, all high frequency data\n",
    "is cleared and only the low frequency data is stored. This reduces the\n",
    "number of Fourier coefficients stored and consequently needs less stor\u0002age space on the disk. During the process of displaying the image, an\n",
    "inverse Fourier transform can be obtained to convert the image to spa\u0002tial domain. Such an image will suffer from blurring, as high frequency\n",
    "information is not stored. A proper selection of the cut-off radius is\n",
    "more important in image compression to avoid blurring and loss of\n",
    "crucial data in the decompressed image."
   ]
  },
  {
   "cell_type": "markdown",
   "id": "84d332f4",
   "metadata": {},
   "source": [
    "### Butterworth Lowpass filter\n"
   ]
  },
  {
   "cell_type": "code",
   "execution_count": 28,
   "id": "34305a1a",
   "metadata": {},
   "outputs": [
    {
     "name": "stdout",
     "output_type": "stream",
     "text": [
      "[[0 0 0 ... 0 0 0]\n",
      " [0 0 0 ... 0 0 0]\n",
      " [0 0 0 ... 0 0 0]\n",
      " ...\n",
      " [0 0 0 ... 0 0 0]\n",
      " [0 0 0 ... 0 0 0]\n",
      " [0 0 0 ... 0 0 0]]\n"
     ]
    }
   ],
   "source": [
    "import scipy.misc\n",
    "import numpy as np\n",
    "import math\n",
    "from  PIL import Image\n",
    "import matplotlib.pyplot as plt\n",
    "\n",
    "import scipy.fftpack as fftim\n",
    "\n",
    "\n",
    "# Opening the image and converting it to grayscale\n",
    "a=Image.open('../ThesisWork/Images/12.gif')\n",
    "a.size\n",
    "# a.show()\n",
    "\n",
    "\n",
    "# a is converted into an ndarray\n",
    "b = np.asarray(a)\n",
    "print(b)\n",
    "\n",
    "# Performing FFT\n",
    "c=fftim.fft2(b)\n",
    "# Shfting the Fourier frequency image\n",
    "d=fftim.fftshift(c)\n",
    "\n",
    "\n",
    "# Initializing variables for convolution function\n",
    "M= d.shape[0]\n",
    "N= d.shape[1]\n",
    "# H is defined and values in H are initialized to 1\n",
    "H = np.ones((M,N))\n",
    "\n",
    "center1=M/2\n",
    "center2=N/2\n",
    "\n",
    "d_0=30.0 # Cut-off radius\n",
    "\n",
    "t1=1 # the order of BLPF\n",
    "t2= 2*t1\n",
    "\n",
    "\n",
    "# defining the convolution function for ILPF\n",
    "\n",
    "for i in range(1,M):\n",
    "    for j in range(1,N):\n",
    "        r1=(i-center1)**2 + (j-center2)**2\n",
    "        \n",
    "        # euclidean distance from origin is computed\n",
    "        r= math.sqrt(r1)\n",
    "        \n",
    "        # Using cut-off radius to eli,inate high frequency \n",
    "        if r>d_0:\n",
    "            H[i,j]=1/(1+(r/d_0)**t1)\n",
    "            \n",
    "            \n",
    "# Converting H to an Image\n",
    "H=Image.fromarray(H)\n",
    "\n",
    "# Performing the convolution\n",
    "con=d*H\n",
    "\n",
    "#Computing the magnitude of the inverse FFT\n",
    "e = abs(fftim.ifft2(con))\n",
    "#e is converted from an ndarray to an image\n",
    "butterworth_losspass = Image.fromarray(e)\n",
    "\n",
    "# Saving the image \n",
    "butterworth_losspass.save('../Image Processing/butterworth_losspass_ouput.gif')"
   ]
  },
  {
   "cell_type": "code",
   "execution_count": null,
   "id": "a7ff3b02",
   "metadata": {},
   "outputs": [],
   "source": [
    "butterworth_losspass.show()"
   ]
  },
  {
   "cell_type": "markdown",
   "id": "b30ebd5f",
   "metadata": {},
   "source": [
    "### Gaussian Lowpass Filter\n"
   ]
  },
  {
   "cell_type": "code",
   "execution_count": 29,
   "id": "8eac549e",
   "metadata": {},
   "outputs": [
    {
     "name": "stdout",
     "output_type": "stream",
     "text": [
      "[[0 0 0 ... 0 0 0]\n",
      " [0 0 0 ... 0 0 0]\n",
      " [0 0 0 ... 0 0 0]\n",
      " ...\n",
      " [0 0 0 ... 0 0 0]\n",
      " [0 0 0 ... 0 0 0]\n",
      " [0 0 0 ... 0 0 0]]\n"
     ]
    }
   ],
   "source": [
    "import scipy.misc\n",
    "import numpy as np\n",
    "import math\n",
    "from  PIL import Image\n",
    "import matplotlib.pyplot as plt\n",
    "\n",
    "import scipy.fftpack as fftim\n",
    "\n",
    "\n",
    "# Opening the image and converting it to grayscale\n",
    "a=Image.open('../ThesisWork/Images/12.gif')\n",
    "a.size\n",
    "# a.show()\n",
    "\n",
    "\n",
    "# a is converted into an ndarray\n",
    "b = np.asarray(a)\n",
    "print(b)\n",
    "\n",
    "# Performing FFT\n",
    "c=fftim.fft2(b)\n",
    "# Shfting the Fourier frequency image\n",
    "d=fftim.fftshift(c)\n",
    "\n",
    "\n",
    "# Initializing variables for convolution function\n",
    "M= d.shape[0]\n",
    "N= d.shape[1]\n",
    "# H is defined and values in H are initialized to 1\n",
    "H = np.ones((M,N))\n",
    "\n",
    "center1=M/2\n",
    "center2=N/2\n",
    "\n",
    "d_0=30.0 # Cut-off radius\n",
    "\n",
    "t1=1 # the order of BLPF\n",
    "t2= 2*t1\n",
    "\n",
    "\n",
    "# defining the convolution function for ILPF\n",
    "\n",
    "for i in range(1,M):\n",
    "    for j in range(1,N):\n",
    "        r1=(i-center1)**2 + (j-center2)**2\n",
    "        \n",
    "        # euclidean distance from origin is computed\n",
    "        r= math.sqrt(r1)\n",
    "        \n",
    "        # Using cut-off radius to eli,inate high frequency \n",
    "        if r>d_0:\n",
    "            H[i,j]=math.exp(-r**2/t1**2)\n",
    "            \n",
    "            \n",
    "# Converting H to an Image\n",
    "H=Image.fromarray(H)\n",
    "\n",
    "# Performing the convolution\n",
    "con=d*H\n",
    "\n",
    "#Computing the magnitude of the inverse FFT\n",
    "e = abs(fftim.ifft2(con))\n",
    "#e is converted from an ndarray to an image\n",
    "gassuian_lowpass = Image.fromarray(e)\n",
    "\n",
    "# Saving the image \n",
    "gassuian_lowpass.save('../Image Processing/gassuian_lowpass_ouput.gif')"
   ]
  },
  {
   "cell_type": "code",
   "execution_count": null,
   "id": "8557269d",
   "metadata": {},
   "outputs": [],
   "source": [
    "gassuian_lowpass.show()"
   ]
  },
  {
   "cell_type": "markdown",
   "id": "54ba41d8",
   "metadata": {},
   "source": [
    "## Ideal Highpass Filter\n"
   ]
  },
  {
   "cell_type": "code",
   "execution_count": 30,
   "id": "41319c72",
   "metadata": {},
   "outputs": [
    {
     "name": "stdout",
     "output_type": "stream",
     "text": [
      "[[0 0 0 ... 0 0 0]\n",
      " [0 0 0 ... 0 0 0]\n",
      " [0 0 0 ... 0 0 0]\n",
      " ...\n",
      " [0 0 0 ... 0 0 0]\n",
      " [0 0 0 ... 0 0 0]\n",
      " [0 0 0 ... 0 0 0]]\n"
     ]
    }
   ],
   "source": [
    "import scipy.misc\n",
    "import numpy as np\n",
    "import math\n",
    "from  PIL import Image\n",
    "import matplotlib.pyplot as plt\n",
    "\n",
    "import scipy.fftpack as fftim\n",
    "\n",
    "\n",
    "# Opening the image and converting it to grayscale\n",
    "a=Image.open('../ThesisWork/Images/12.gif')\n",
    "a.size\n",
    "# a.show()\n",
    "\n",
    "\n",
    "# a is converted into an ndarray\n",
    "b = np.asarray(a)\n",
    "print(b)\n",
    "\n",
    "# Performing FFT\n",
    "c=fftim.fft2(b)\n",
    "# Shfting the Fourier frequency image\n",
    "d=fftim.fftshift(c)\n",
    "\n",
    "\n",
    "# Initializing variables for convolution function\n",
    "M= d.shape[0]\n",
    "N= d.shape[1]\n",
    "# H is defined and values in H are initialized to 1\n",
    "H = np.ones((M,N))\n",
    "\n",
    "center1=M/2\n",
    "center2=N/2\n",
    "\n",
    "d_0=30.0 # Cut-off radius\n",
    "\n",
    "\n",
    "\n",
    "# defining the convolution function for ILPF\n",
    "\n",
    "for i in range(1,M):\n",
    "    for j in range(1,N):\n",
    "        r1=(i-center1)**2 + (j-center2)**2\n",
    "        \n",
    "        # euclidean distance from origin is computed\n",
    "        r= math.sqrt(r1)\n",
    "        \n",
    "        # Using cut-off radius to eli,inate high frequency \n",
    "        if 0<r<d_0 :\n",
    "            H[i,j]=0.0\n",
    "            \n",
    "            \n",
    "# Converting H to an Image\n",
    "H=Image.fromarray(H)\n",
    "\n",
    "# Performing the convolution\n",
    "con=d*H\n",
    "\n",
    "#Computing the magnitude of the inverse FFT\n",
    "e = abs(fftim.ifft2(con))\n",
    "#e is converted from an ndarray to an image\n",
    "ideal_highpass = Image.fromarray(e)\n",
    "\n",
    "# Saving the image \n",
    "ideal_highpass.save('../Image Processing/ideal_highpass_ouput.gif')"
   ]
  },
  {
   "cell_type": "code",
   "execution_count": null,
   "id": "c5500089",
   "metadata": {},
   "outputs": [],
   "source": [
    "ideal_highpass.show()"
   ]
  },
  {
   "cell_type": "markdown",
   "id": "31fbc4bd",
   "metadata": {},
   "source": [
    "## Butterworth Highpass "
   ]
  },
  {
   "cell_type": "code",
   "execution_count": 31,
   "id": "f1afb872",
   "metadata": {},
   "outputs": [
    {
     "name": "stdout",
     "output_type": "stream",
     "text": [
      "[[0 0 0 ... 0 0 0]\n",
      " [0 0 0 ... 0 0 0]\n",
      " [0 0 0 ... 0 0 0]\n",
      " ...\n",
      " [0 0 0 ... 0 0 0]\n",
      " [0 0 0 ... 0 0 0]\n",
      " [0 0 0 ... 0 0 0]]\n"
     ]
    }
   ],
   "source": [
    "import scipy.misc\n",
    "import numpy as np\n",
    "import math\n",
    "from  PIL import Image\n",
    "import matplotlib.pyplot as plt\n",
    "\n",
    "import scipy.fftpack as fftim\n",
    "\n",
    "\n",
    "# Opening the image and converting it to grayscale\n",
    "a=Image.open('../ThesisWork/Images/12.gif')\n",
    "a.size\n",
    "# a.show()\n",
    "\n",
    "\n",
    "# a is converted into an ndarray\n",
    "b = np.asarray(a)\n",
    "print(b)\n",
    "\n",
    "# Performing FFT\n",
    "c=fftim.fft2(b)\n",
    "# Shfting the Fourier frequency image\n",
    "d=fftim.fftshift(c)\n",
    "\n",
    "\n",
    "# Initializing variables for convolution function\n",
    "M= d.shape[0]\n",
    "N= d.shape[1]\n",
    "# H is defined and values in H are initialized to 1\n",
    "H = np.ones((M,N))\n",
    "\n",
    "center1=M/2\n",
    "center2=N/2\n",
    "\n",
    "d_0=30.0 # Cut-off radius\n",
    "t1=1 # the order of BHPF\n",
    "t2=2*t1\n",
    "\n",
    "\n",
    "# defining the convolution function for ILPF\n",
    "\n",
    "for i in range(1,M):\n",
    "    for j in range(1,N):\n",
    "        r1=(i-center1)**2 + (j-center2)**2\n",
    "        \n",
    "        # euclidean distance from origin is computed\n",
    "        r= math.sqrt(r1)\n",
    "        \n",
    "        # Using cut-off radius to eli,inate high frequency \n",
    "        if 0<r<d_0 :\n",
    "            H[i,j]=1/(1+(r/d_0)**t2)\n",
    "            \n",
    "            \n",
    "# Converting H to an Image\n",
    "H=Image.fromarray(H)\n",
    "\n",
    "# Performing the convolution\n",
    "con=d*H\n",
    "\n",
    "#Computing the magnitude of the inverse FFT\n",
    "e = abs(fftim.ifft2(con))\n",
    "#e is converted from an ndarray to an image\n",
    "butterworth_highpass = Image.fromarray(e)\n",
    "\n",
    "# Saving the image \n",
    "butterworth_highpass.save('../Image Processing/butterworth_highpass_ouput.gif')"
   ]
  },
  {
   "cell_type": "code",
   "execution_count": null,
   "id": "007d35ad",
   "metadata": {},
   "outputs": [],
   "source": [
    "butterworth_highpass.show()"
   ]
  },
  {
   "cell_type": "markdown",
   "id": "9ffdb939",
   "metadata": {},
   "source": [
    "## Gaussain highpass Filter\n"
   ]
  },
  {
   "cell_type": "code",
   "execution_count": 32,
   "id": "6fc84587",
   "metadata": {},
   "outputs": [
    {
     "name": "stdout",
     "output_type": "stream",
     "text": [
      "[[0 0 0 ... 0 0 0]\n",
      " [0 0 0 ... 0 0 0]\n",
      " [0 0 0 ... 0 0 0]\n",
      " ...\n",
      " [0 0 0 ... 0 0 0]\n",
      " [0 0 0 ... 0 0 0]\n",
      " [0 0 0 ... 0 0 0]]\n"
     ]
    }
   ],
   "source": [
    "import scipy.misc\n",
    "import numpy as np\n",
    "import math\n",
    "from  PIL import Image\n",
    "import matplotlib.pyplot as plt\n",
    "\n",
    "import scipy.fftpack as fftim\n",
    "\n",
    "\n",
    "# Opening the image and converting it to grayscale\n",
    "a=Image.open('../ThesisWork/Images/12.gif')\n",
    "a.size\n",
    "# a.show()\n",
    "\n",
    "\n",
    "# a is converted into an ndarray\n",
    "b = np.asarray(a)\n",
    "print(b)\n",
    "\n",
    "# Performing FFT\n",
    "c=fftim.fft2(b)\n",
    "# Shfting the Fourier frequency image\n",
    "d=fftim.fftshift(c)\n",
    "\n",
    "\n",
    "# Initializing variables for convolution function\n",
    "M= d.shape[0]\n",
    "N= d.shape[1]\n",
    "# H is defined and values in H are initialized to 1\n",
    "H = np.ones((M,N))\n",
    "\n",
    "center1=M/2\n",
    "center2=N/2\n",
    "\n",
    "d_0=30.0 # Cut-off radius\n",
    "\n",
    "t1=1 # the order of BLPF\n",
    "t2= 2*t1\n",
    "\n",
    "\n",
    "# defining the convolution function for ILPF\n",
    "\n",
    "for i in range(1,M):\n",
    "    for j in range(1,N):\n",
    "        r1=(i-center1)**2 + (j-center2)**2\n",
    "        \n",
    "        # euclidean distance from origin is computed\n",
    "        r= math.sqrt(r1)\n",
    "        \n",
    "        # Using cut-off radius to eli,inate high frequency \n",
    "        if 0<r<d_0:\n",
    "            H[i,j]=math.exp(-r**2/t1**2)\n",
    "            \n",
    "            \n",
    "# Converting H to an Image\n",
    "H=Image.fromarray(H)\n",
    "\n",
    "# Performing the convolution\n",
    "con=d*H\n",
    "\n",
    "#Computing the magnitude of the inverse FFT\n",
    "e = abs(fftim.ifft2(con))\n",
    "#e is converted from an ndarray to an image\n",
    "gassuian_highpass = Image.fromarray(e)\n",
    "\n",
    "# Saving the image \n",
    "gassuian_highpass.save('../Image Processing/gassuian_highpass_ouput.gif')"
   ]
  },
  {
   "cell_type": "code",
   "execution_count": null,
   "id": "48ae7847",
   "metadata": {},
   "outputs": [],
   "source": [
    "\n",
    "gassuian_highpass.show()"
   ]
  },
  {
   "cell_type": "markdown",
   "id": "8ee25623",
   "metadata": {},
   "source": [
    "## Bandpass filter\n"
   ]
  },
  {
   "cell_type": "code",
   "execution_count": 33,
   "id": "d9f88b83",
   "metadata": {},
   "outputs": [
    {
     "name": "stdout",
     "output_type": "stream",
     "text": [
      "[[0 0 0 ... 0 0 0]\n",
      " [0 0 0 ... 0 0 0]\n",
      " [0 0 0 ... 0 0 0]\n",
      " ...\n",
      " [0 0 0 ... 0 0 0]\n",
      " [0 0 0 ... 0 0 0]\n",
      " [0 0 0 ... 0 0 0]]\n"
     ]
    }
   ],
   "source": [
    "import scipy.misc\n",
    "import numpy as np\n",
    "import math\n",
    "from  PIL import Image\n",
    "import matplotlib.pyplot as plt\n",
    "\n",
    "import scipy.fftpack as fftim\n",
    "\n",
    "\n",
    "# Opening the image and converting it to grayscale\n",
    "a=Image.open('../ThesisWork/Images/12.gif')\n",
    "a.size\n",
    "# a.show()\n",
    "\n",
    "\n",
    "# a is converted into an ndarray\n",
    "b = np.asarray(a)\n",
    "print(b)\n",
    "\n",
    "# Performing FFT\n",
    "c=fftim.fft2(b)\n",
    "# Shfting the Fourier frequency image\n",
    "d=fftim.fftshift(c)\n",
    "\n",
    "\n",
    "# Initializing variables for convolution function\n",
    "M= d.shape[0]\n",
    "N= d.shape[1]\n",
    "# H is defined and values in H are initialized to 1\n",
    "H = np.ones((M,N))\n",
    "\n",
    "center1=M/2\n",
    "center2=N/2\n",
    "\n",
    "d_0=30.0 # Minimum Cut-off radius\n",
    "d_1=50.0 # Maximum Cut-off radius\n",
    "\n",
    "\n",
    "# defining the convolution function for ILPF\n",
    "\n",
    "for i in range(1,M):\n",
    "    for j in range(1,N):\n",
    "        r1=(i-center1)**2 + (j-center2)**2\n",
    "        \n",
    "        # euclidean distance from origin is computed\n",
    "        r= math.sqrt(r1)\n",
    "        \n",
    "        # Using cut-off radius to eli,inate high frequency \n",
    "        if r>d_0 and r<d_1:\n",
    "            H[i,j]=1.0\n",
    "            \n",
    "            \n",
    "# Converting H to an Image\n",
    "H=Image.fromarray(H)\n",
    "\n",
    "# Performing the convolution\n",
    "con=d*H\n",
    "\n",
    "#Computing the magnitude of the inverse FFT\n",
    "e = abs(fftim.ifft2(con))\n",
    "#e is converted from an ndarray to an image\n",
    "band_pass = Image.fromarray(e)\n",
    "\n",
    "# Saving the image \n",
    "band_pass.save('../Image Processing/band_pass_ouput.gif')"
   ]
  },
  {
   "cell_type": "code",
   "execution_count": null,
   "id": "d23c8eb8",
   "metadata": {},
   "outputs": [],
   "source": [
    "band_pass.show()"
   ]
  },
  {
   "cell_type": "markdown",
   "id": "36859718",
   "metadata": {},
   "source": [
    "# Summary\n",
    "* Lowpass filters are used for noise reduction or smoothing. High\u0002pass filters are used for edge enhancement or sharpening.\n",
    "\n",
    "\n",
    "* In lowpass and highpass filters ideal, Butterworth and Gaussian were considered.\n",
    "\n",
    "\n",
    "* A bandpass filter has minimum cut-off and maximum cut-off radii.\n",
    "\n",
    "\n",
    "* Convolution can be viewed as the process of combining two images. Convolution is multiplication in Fourier domain. The inverse process is called deconvolution.\n",
    "\n",
    "\n",
    "* Fourier transform can be used for image filtering, compression, enhancement, restoration and analysis.\n"
   ]
  },
  {
   "cell_type": "markdown",
   "id": "30734a88",
   "metadata": {},
   "source": [
    "# End of Chpt 6"
   ]
  },
  {
   "cell_type": "code",
   "execution_count": null,
   "id": "d3a9ffdf",
   "metadata": {},
   "outputs": [],
   "source": []
  }
 ],
 "metadata": {
  "kernelspec": {
   "display_name": "Python 3 (ipykernel)",
   "language": "python",
   "name": "python3"
  },
  "language_info": {
   "codemirror_mode": {
    "name": "ipython",
    "version": 3
   },
   "file_extension": ".py",
   "mimetype": "text/x-python",
   "name": "python",
   "nbconvert_exporter": "python",
   "pygments_lexer": "ipython3",
   "version": "3.9.7"
  }
 },
 "nbformat": 4,
 "nbformat_minor": 5
}
